{
 "cells": [
  {
   "cell_type": "code",
   "execution_count": null,
   "id": "a6161ac5",
   "metadata": {},
   "outputs": [],
   "source": [
    "A = 10\n",
    "B = 5\n",
    "C = A + B\n",
    "D = B / A"
   ]
  },
  {
   "cell_type": "code",
   "execution_count": 16,
   "id": "a29fc691",
   "metadata": {},
   "outputs": [
    {
     "data": {
      "text/plain": [
       "False"
      ]
     },
     "execution_count": 16,
     "metadata": {},
     "output_type": "execute_result"
    }
   ],
   "source": [
    "4 < 5\n",
    "10 > 100\n",
    "4 == 5"
   ]
  },
  {
   "cell_type": "code",
   "execution_count": 19,
   "id": "01b7bb1f",
   "metadata": {},
   "outputs": [],
   "source": [
    "while False:\n",
    "    print (\"Hello\")"
   ]
  },
  {
   "cell_type": "code",
   "execution_count": 18,
   "id": "df0c6186",
   "metadata": {},
   "outputs": [
    {
     "name": "stdout",
     "output_type": "stream",
     "text": [
      "0\n",
      "1\n",
      "2\n",
      "3\n",
      "4\n",
      "5\n",
      "6\n",
      "7\n",
      "8\n",
      "9\n",
      "10\n",
      "11\n"
     ]
    }
   ],
   "source": [
    "counter = 0;\n",
    "while counter < 12:\n",
    "    print (counter)\n",
    "    counter = counter + 1"
   ]
  },
  {
   "cell_type": "code",
   "execution_count": 20,
   "id": "fb807c2e",
   "metadata": {},
   "outputs": [
    {
     "name": "stdout",
     "output_type": "stream",
     "text": [
      "Hello Python 0\n",
      "Hello Python 1\n",
      "Hello Python 2\n",
      "Hello Python 3\n",
      "Hello Python 4\n"
     ]
    }
   ],
   "source": [
    "for i in range (5):\n",
    "    print(\"Hello Python\", i)"
   ]
  },
  {
   "cell_type": "code",
   "execution_count": 21,
   "id": "81301599",
   "metadata": {},
   "outputs": [
    {
     "name": "stdout",
     "output_type": "stream",
     "text": [
      "j is equal to:  10\n",
      "j is equal to:  100\n",
      "j is equal to:  1000\n"
     ]
    }
   ],
   "source": [
    "mylist = [10, 100, 1000]\n",
    "for j in mylist:\n",
    "    print(\"j is equal to: \", j)"
   ]
  },
  {
   "cell_type": "code",
   "execution_count": 12,
   "id": "213ec258",
   "metadata": {},
   "outputs": [
    {
     "name": "stdout",
     "output_type": "stream",
     "text": [
      "17\n"
     ]
    }
   ],
   "source": [
    "import numpy as np\n",
    "from numpy.random import randn\n",
    "N = 100\n",
    "counter = 0\n",
    "for i in randn(100):\n",
    "    if (i > -0.30 and i < 0.30):\n",
    "        counter = counter+1\n",
    "answer = counter / N\n",
    "print (counter)"
   ]
  },
  {
   "cell_type": "code",
   "execution_count": 112,
   "id": "cb139ab9",
   "metadata": {},
   "outputs": [],
   "source": [
    "#--- List and Arrays"
   ]
  },
  {
   "cell_type": "code",
   "execution_count": 22,
   "id": "72cc7313",
   "metadata": {},
   "outputs": [
    {
     "name": "stdout",
     "output_type": "stream",
     "text": [
      "['how are you?', 55, [3, 45, 56, 732]]\n"
     ]
    }
   ],
   "source": [
    "myFirstList = [3, 45, 56, 732]\n",
    "mySecondList = [\"hello\", 24, True, 55.3]\n",
    "myThirdList = ['how are you?', 55, myFirstList]\n",
    "print (myThirdList)"
   ]
  },
  {
   "cell_type": "code",
   "execution_count": 25,
   "id": "f55a26ab",
   "metadata": {},
   "outputs": [
    {
     "data": {
      "text/plain": [
       "[0, 1, 2, 3, 4, 5, 6, 7, 8, 9, 10, 11, 12, 13, 14]"
      ]
     },
     "execution_count": 25,
     "metadata": {},
     "output_type": "execute_result"
    }
   ],
   "source": [
    "range(15) # in Python 3 - this is the same as xrange() in Python 2 - which is an iterator and not stored values\n",
    "list(range(15)) # this will store the values"
   ]
  },
  {
   "cell_type": "code",
   "execution_count": 34,
   "id": "457dfd11",
   "metadata": {},
   "outputs": [
    {
     "data": {
      "text/plain": [
       "[1, 11, 21, 31, 41, 51, 61, 71, 81, 91]"
      ]
     },
     "execution_count": 34,
     "metadata": {},
     "output_type": "execute_result"
    }
   ],
   "source": [
    "x = list(range(8))\n",
    "y = list(range(1,8))\n",
    "z = list(range(1,92,10))"
   ]
  },
  {
   "cell_type": "code",
   "execution_count": 42,
   "id": "8b5d072f",
   "metadata": {},
   "outputs": [
    {
     "data": {
      "text/plain": [
       "'a'"
      ]
     },
     "execution_count": 42,
     "metadata": {},
     "output_type": "execute_result"
    }
   ],
   "source": [
    "w = ['a', 'b', 'c', 'd']\n",
    "w[1] # prints b\n",
    "len(w) # prints 4\n",
    "w[len(w)-1] # prints d\n",
    "w[-4] # prints a - different from R - which does not have negative indexation"
   ]
  },
  {
   "cell_type": "code",
   "execution_count": 52,
   "id": "061d2bdc",
   "metadata": {},
   "outputs": [
    {
     "data": {
      "text/plain": [
       "['H', 'G', 'F', 'D']"
      ]
     },
     "execution_count": 52,
     "metadata": {},
     "output_type": "execute_result"
    }
   ],
   "source": [
    "letters = ['A', 'B', 'C', 'D', 'F', 'G', 'H', 'I']\n",
    "letters[2:9]\n",
    "letters[2:9:2]\n",
    "letters[-6:-2]\n",
    "letters[-2:-6:-1]"
   ]
  },
  {
   "cell_type": "code",
   "execution_count": 54,
   "id": "b7ec3ecf",
   "metadata": {},
   "outputs": [
    {
     "data": {
      "text/plain": [
       "456"
      ]
     },
     "execution_count": 54,
     "metadata": {},
     "output_type": "execute_result"
    }
   ],
   "source": [
    "tuple1 = (345, 456, 567) # tuples cannot be changed\n",
    "tuple1[1]"
   ]
  },
  {
   "cell_type": "code",
   "execution_count": 59,
   "id": "95baaf96",
   "metadata": {},
   "outputs": [
    {
     "data": {
      "text/plain": [
       "30"
      ]
     },
     "execution_count": 59,
     "metadata": {},
     "output_type": "execute_result"
    }
   ],
   "source": [
    "mylist1 = list(range(20,31))\n",
    "type(mylist1)\n",
    "min(mylist1)\n",
    "max(mylist1)"
   ]
  },
  {
   "cell_type": "code",
   "execution_count": 85,
   "id": "f5bcea75",
   "metadata": {},
   "outputs": [
    {
     "data": {
      "text/plain": [
       "4201.75"
      ]
     },
     "execution_count": 85,
     "metadata": {},
     "output_type": "execute_result"
    }
   ],
   "source": [
    "#import scrappy\n",
    "#from scrappy.crawler import CrawlerProcess\n",
    "import numpy as np\n",
    "ar1 = [2345, 3455, 5343, 5664]\n",
    "a = numpy.array(ar1)\n",
    "ar2 = [12, 455, 63.3, True, \"abc\"]\n",
    "b = numpy.array(ar2)\n",
    "a.mean()"
   ]
  },
  {
   "cell_type": "code",
   "execution_count": 97,
   "id": "17c821bf",
   "metadata": {},
   "outputs": [
    {
     "name": "stdout",
     "output_type": "stream",
     "text": [
      "[111, 345]\n"
     ]
    }
   ],
   "source": [
    "a = ([23245, 27, 111, 345, -1234])\n",
    "b = a[2:4] # does not create a copy of the array (unlike a list)\n",
    "print(b)"
   ]
  },
  {
   "cell_type": "code",
   "execution_count": 102,
   "id": "62b1ace9",
   "metadata": {},
   "outputs": [
    {
     "data": {
      "text/plain": [
       "[False, False, False]"
      ]
     },
     "execution_count": 102,
     "metadata": {},
     "output_type": "execute_result"
    }
   ],
   "source": [
    "a = [1,2,3]\n",
    "b = [4,5,6]\n",
    "ab = []\n",
    "for i in range(0, len(a)):\n",
    "    ab.append(a[i] == b[i])\n",
    "ab"
   ]
  },
  {
   "cell_type": "code",
   "execution_count": 103,
   "id": "6deed1ca",
   "metadata": {},
   "outputs": [],
   "source": [
    "#--- Matrices"
   ]
  },
  {
   "cell_type": "code",
   "execution_count": 104,
   "id": "fd11dfee",
   "metadata": {},
   "outputs": [
    {
     "data": {
      "text/plain": [
       "array([['I', 'am', 'happy'],\n",
       "       ['What', 'a', 'day'],\n",
       "       ['1', '2', '3']], dtype='<U5')"
      ]
     },
     "execution_count": 104,
     "metadata": {},
     "output_type": "execute_result"
    }
   ],
   "source": [
    "import numpy as np\n",
    "mydata = np.arange(0,20)\n",
    "np.reshape(mydata, (5,4)) # default is opposite to R (left to right instead of downward)\n",
    "np.reshape(mydata, (5,4), order='C')"
   ]
  },
  {
   "cell_type": "code",
   "execution_count": 105,
   "id": "80997092",
   "metadata": {},
   "outputs": [
    {
     "data": {
      "text/plain": [
       "array([[ 0,  5, 10, 15],\n",
       "       [ 1,  6, 11, 16],\n",
       "       [ 2,  7, 12, 17],\n",
       "       [ 3,  8, 13, 18],\n",
       "       [ 4,  9, 14, 19]])"
      ]
     },
     "execution_count": 105,
     "metadata": {},
     "output_type": "execute_result"
    }
   ],
   "source": [
    "np.reshape(mydata, (5,4), order='F') # fortran instead of c - which is downward like R"
   ]
  },
  {
   "cell_type": "code",
   "execution_count": 106,
   "id": "168bf8fa",
   "metadata": {},
   "outputs": [
    {
     "data": {
      "text/plain": [
       "array([[ 0,  1,  2,  3],\n",
       "       [ 4,  5,  6,  7],\n",
       "       [ 8,  9, 10, 11],\n",
       "       [12, 13, 14, 15],\n",
       "       [16, 17, 18, 19]])"
      ]
     },
     "execution_count": 106,
     "metadata": {},
     "output_type": "execute_result"
    }
   ],
   "source": [
    "mydata.reshape((5,4)) # the methods are in the object (as OO)"
   ]
  },
  {
   "cell_type": "code",
   "execution_count": 108,
   "id": "9faa978d",
   "metadata": {},
   "outputs": [
    {
     "data": {
      "text/plain": [
       "array([['I', 'am', 'happy'],\n",
       "       ['What', 'a', 'day'],\n",
       "       ['1', '2', '3']], dtype='<U5')"
      ]
     },
     "execution_count": 108,
     "metadata": {},
     "output_type": "execute_result"
    }
   ],
   "source": [
    "r1 = [\"I\", \"am\", \"happy\"]\n",
    "r2 = [\"What\", \"a\", \"day\"]\n",
    "r3 = [\"1\", \"2\", \"3\"]\n",
    "np.array([r1, r2, r3])"
   ]
  },
  {
   "cell_type": "code",
   "execution_count": 110,
   "id": "54a17363",
   "metadata": {},
   "outputs": [],
   "source": [
    "#--- Dictionaries"
   ]
  },
  {
   "cell_type": "code",
   "execution_count": 111,
   "id": "6ac363b2",
   "metadata": {},
   "outputs": [
    {
     "data": {
      "text/plain": [
       "'val2'"
      ]
     },
     "execution_count": 111,
     "metadata": {},
     "output_type": "execute_result"
    }
   ],
   "source": [
    "dict1 = {'key1':'val1','key2':'val2','key3':'val3'}\n",
    "dict1['key2']"
   ]
  },
  {
   "cell_type": "code",
   "execution_count": null,
   "id": "f614c9fe",
   "metadata": {},
   "outputs": [],
   "source": []
  }
 ],
 "metadata": {
  "kernelspec": {
   "display_name": "Python 3 (ipykernel)",
   "language": "python",
   "name": "python3"
  },
  "language_info": {
   "codemirror_mode": {
    "name": "ipython",
    "version": 3
   },
   "file_extension": ".py",
   "mimetype": "text/x-python",
   "name": "python",
   "nbconvert_exporter": "python",
   "pygments_lexer": "ipython3",
   "version": "3.9.7"
  }
 },
 "nbformat": 4,
 "nbformat_minor": 5
}
